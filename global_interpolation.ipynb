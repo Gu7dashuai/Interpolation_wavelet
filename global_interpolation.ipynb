{
  "nbformat": 4,
  "nbformat_minor": 0,
  "metadata": {
    "colab": {
      "name": "global interpolation",
      "provenance": [],
      "collapsed_sections": [],
      "authorship_tag": "ABX9TyMZGjnv6N4fw+7HuayzDJgL",
      "include_colab_link": true
    },
    "kernelspec": {
      "name": "python3",
      "display_name": "Python 3"
    },
    "language_info": {
      "name": "python"
    }
  },
  "cells": [
    {
      "cell_type": "markdown",
      "metadata": {
        "id": "view-in-github",
        "colab_type": "text"
      },
      "source": [
        "<a href=\"https://colab.research.google.com/github/Gu7dashuai/Interpolation_wavelet/blob/main/global_interpolation.ipynb\" target=\"_parent\"><img src=\"https://colab.research.google.com/assets/colab-badge.svg\" alt=\"Open In Colab\"/></a>"
      ]
    },
    {
      "cell_type": "code",
      "execution_count": 3,
      "metadata": {
        "id": "u15Ud7Oailkx"
      },
      "outputs": [],
      "source": [
        "import matplotlib.pyplot as plt\n",
        "import numpy as np\n",
        "import math\n",
        "import functools"
      ]
    },
    {
      "cell_type": "code",
      "source": [
        "#Defining constants\n",
        "H0=(1+math.sqrt(3))/4\n",
        "H1=(3+math.sqrt(3))/4\n",
        "H2=(3-math.sqrt(3))/4\n",
        "H3=(1-math.sqrt(3))/4\n",
        "R0=(3-math.sqrt(3))/2"
      ],
      "metadata": {
        "id": "kQaG6HtDemBh"
      },
      "execution_count": 4,
      "outputs": []
    },
    {
      "cell_type": "code",
      "source": [
        "#Recurrence function, basic building block of Daubechies-2 wavelets\n",
        "@functools.lru_cache()\n",
        "def phi(x):\n",
        "  #Input: independent variable x, dtype=float\n",
        "  #Output: objective value of function y=phi(x)\n",
        "  if x<0 or x>3:\n",
        "    return 0\n",
        "  if x==0:\n",
        "      return 0\n",
        "  if x==1:\n",
        "      return (1+math.sqrt(3))/2\n",
        "  if x==2:\n",
        "      return (1-math.sqrt(3))/2\n",
        "  if x==3:\n",
        "      return 0\n",
        "  return H0*phi(2*x)+H1*phi(2*x-1)+H2*phi(2*x-2)+H3*phi(2*x-3)"
      ],
      "metadata": {
        "id": "Zh6C-OyIivR0"
      },
      "execution_count": 5,
      "outputs": []
    },
    {
      "cell_type": "code",
      "source": [
        "#Function that multiplies all numbers in a vector by a multiple of 10 to make sure all numbers are integers in the vector\n",
        "def zoom(vector):\n",
        "  #Input: A vector of numbers\n",
        "  #Output: A vector of integers\n",
        "  List_values=[]\n",
        "  List_string=[]\n",
        "  List_stringlength=[]\n",
        "  if all([isinstance(numbers,int)==True for numbers in vector]): #Test if all values in the input are integers or not\n",
        "    Zoom_coefficient=1 #If the vector is all integers, the coefficient is 1 so nothing changes in the vector\n",
        "  else: #If there's a decimal\n",
        "    for numbers in vector:\n",
        "      List_string.append(str(numbers))\n",
        "    for strings in List_string:\n",
        "      string_length=len(strings)\n",
        "      List_stringlength.append(string_length)\n",
        "    Longest_string=max(List_stringlength)  #Pick the number with longest decimal places.\n",
        "    Zoom_coefficient=10**(Longest_string-2) #Make sure the number with longest decimal places turns into integers so all numbers can be turned into integers\n",
        "  for i in range(len(vector)):\n",
        "    Values=vector[i]*Zoom_coefficient\n",
        "    List_values.append(Values)\n",
        "  return List_values,Zoom_coefficient"
      ],
      "metadata": {
        "id": "oBGMbF-8hFmC"
      },
      "execution_count": 6,
      "outputs": []
    },
    {
      "cell_type": "code",
      "source": [
        "def supplement(List_dilation_coefficients,ordinate):\n",
        "  #Inputs:\n",
        "  #List_dilation_coefficients: list of coefficients according to the ordinates of sample points\n",
        "  #ordinate: array of ordinates of sample points\n",
        "  #Outputs:\n",
        "  #A longer list of coefficients that is supplemented to match the number of wavelets required\n",
        "  List_index_of_ordinate=[]\n",
        "  for k in range(0,len(ordinate)):\n",
        "    Index_of_ordinate = List_dilation_coefficients.index(ordinate[k])\n",
        "    List_index_of_ordinate.append(Index_of_ordinate)\n",
        "  for i in range(len(List_index_of_ordinate)-1):\n",
        "    Difference = List_index_of_ordinate[i+1] - List_index_of_ordinate[i]\n",
        "    Slope = (ordinate[i+1]-ordinate[i])/(Difference) #Find the slope between two sample points\n",
        "    for j in range(1,len(List_dilation_coefficients[List_index_of_ordinate[i]+1:List_index_of_ordinate[i+1]])+1): #Determine the coefficient according to the slope\n",
        "      List_dilation_coefficients[List_index_of_ordinate[i]+j] = List_dilation_coefficients[List_index_of_ordinate[i]] + j*Slope\n",
        "  return List_dilation_coefficients"
      ],
      "metadata": {
        "id": "8L5bhB8z_0eP"
      },
      "execution_count": 7,
      "outputs": []
    },
    {
      "cell_type": "code",
      "source": [
        "#Approximating function using wavelets\n",
        "def approximation(abscissa,ordinate,x):\n",
        "  #Inputs:\n",
        "  #vectors of ordinates and abscissae of samples\n",
        "  #independent variable x of this one variable function\n",
        "  #Output:\n",
        "  #An outcome of the value of the function\n",
        "  Outcome=0\n",
        "  List_abscissa,Zoom_coefficient=zoom(abscissa)#Function zoom, ensure all inputs are integers\n",
        "  Numbers_of_wavelets=int(List_abscissa[-1])+1\n",
        "  Dilation_coefficients=np.zeros(Numbers_of_wavelets)\n",
        "  for i in range(int(len(abscissa))):\n",
        "    Dilation_coefficients[int(List_abscissa[i])]=ordinate[i]#The existing coefficients according to sample points\n",
        "  List_dilation_coefficients=Dilation_coefficients.tolist()\n",
        "  New_dilation_coefficients=supplement(List_dilation_coefficients,ordinate)#Assign values to other coefficients\n",
        "  for k in range(Numbers_of_wavelets):\n",
        "    Outcome += New_dilation_coefficients[k]*phi(x-k)# The approximating function\n",
        "  return Outcome"
      ],
      "metadata": {
        "id": "sNLC7mQaivlI"
      },
      "execution_count": 8,
      "outputs": []
    },
    {
      "cell_type": "code",
      "source": [
        ""
      ],
      "metadata": {
        "id": "4obGHRU3Wcc3"
      },
      "execution_count": null,
      "outputs": []
    },
    {
      "cell_type": "code",
      "source": [
        "r=[0,0.5,1,1.5]\n",
        "s=[1,2,3,4]\n",
        "interpolation(r,s,1.5)"
      ],
      "metadata": {
        "colab": {
          "base_uri": "https://localhost:8080/"
        },
        "id": "EHkXXagKSyDM",
        "outputId": "cf06b4fd-6795-43fb-b51e-86c5e2e14e2a"
      },
      "execution_count": 13,
      "outputs": [
        {
          "output_type": "execute_result",
          "data": {
            "text/plain": [
              "3.9999999999999942"
            ]
          },
          "metadata": {},
          "execution_count": 13
        }
      ]
    },
    {
      "cell_type": "code",
      "source": [
        "#Interpolating function\n",
        "def interpolation(abscissa,ordinate,x):\n",
        "  #Inputs：\n",
        "  #ordinate：Array of ordinates of sample points\n",
        "  #abscissa：Array of abscissae of sample points\n",
        "  #x :independent variable, abscissa of the point user want to interpolate dtype: float\n",
        "  #Output:\n",
        "  #objective function value, ordinate of the point user want to interpolate\n",
        "  List_abscissa,Zoom_coefficient=zoom(abscissa)\n",
        "  return approximation(abscissa,ordinate,(R0+x*Zoom_coefficient))"
      ],
      "metadata": {
        "id": "T5i_7ymgjgfu"
      },
      "execution_count": 11,
      "outputs": []
    },
    {
      "cell_type": "code",
      "source": [
        "#Gives a plot of interpolating function given the sample points\n",
        "def plotinterpolation(abscissa,ordinate):\n",
        "  #Inputs:\n",
        "  #abscissa: an array of values of abscissae of sample points\n",
        "  #ordinate: an array of values of ordinates of sample points \n",
        "  List_y=[]\n",
        "  List_x=np.arange(abscissa[0],abscissa[-1]+0.05,0.05)\n",
        "  for x in List_x:\n",
        "      y=interpolation(abscissa,ordinate,x)\n",
        "      List_y.append(y)\n",
        "  plt.plot(List_x,List_y, color='black',label='interpolation function f(x)')\n",
        "  plt.title('x='+str(abscissa))\n",
        "  plt.scatter(abscissa,s,s=50,color='red')\n",
        "  plt.xlabel('x')\n",
        "  plt.ylabel('y')\n",
        "  plt.legend()"
      ],
      "metadata": {
        "id": "Zu7xS64VjiE2"
      },
      "execution_count": 16,
      "outputs": []
    },
    {
      "cell_type": "code",
      "source": [
        "r=[0,1,2,3]\n",
        "s=[4,7,12,19]\n",
        "plotinterpolation(r,s)"
      ],
      "metadata": {
        "colab": {
          "base_uri": "https://localhost:8080/",
          "height": 295
        },
        "id": "vcmBSCofZMtr",
        "outputId": "260328e0-f78d-49d8-fb11-18785b0d9592"
      },
      "execution_count": 17,
      "outputs": [
        {
          "output_type": "display_data",
          "data": {
            "text/plain": [
              "<Figure size 432x288 with 1 Axes>"
            ],
            "image/png": "[encoded data removed]"
          },
          "metadata": {
            "needs_background": "light"
          }
        }
      ]
    },
    {
      "cell_type": "code",
      "source": [
        "# A function that gives plots of interpolating function via the sample points chosen from an existing function\n",
        "def plotinterp(abscissa,func):\n",
        "  #Inputs:\n",
        "  #abscissa: an array of values of abscissae of sample points\n",
        "  #func: an original function \n",
        "  #s be array of sample.\n",
        "  #r=np.arange(int(len(r)))\n",
        "  List_r=[]\n",
        "  List_a=[]\n",
        "  List_j=[]\n",
        "  if all([isinstance(numbers,int)==True for numbers in r]):\n",
        "    m=1\n",
        "  else:\n",
        "    for numbers in abscissa:\n",
        "      List_a.append(str(numbers))\n",
        "    for w in List_a:\n",
        "      j=len(w)\n",
        "      List_j.append(j)\n",
        "    q=max(List_j)\n",
        "    m=10**(q-2)\n",
        "\n",
        "  N=int(len(abscissa))\n",
        "  s=np.zeros(N)\n",
        "  for i in range(N):\n",
        "    s[i]=func(abscissa[i])\n",
        "    #print((interpolation(s,i)-s[i])/s[i])\n",
        "  List_x=np.arange(abscissa[0],abscissa[-1]+0.05,0.05)\n",
        "  List_y=[]\n",
        "  List_z=[]\n",
        "  List_i=[]\n",
        "  for x in List_x:\n",
        "      z=func(x)\n",
        "      List_z.append(z)\n",
        "      y=interpolation(s,abscissa,x*m)\n",
        "      List_y.append(y)\n",
        "  plt.plot(List_x,List_z, color='blue',label='y=sin(x)')\n",
        "  #plt.plot(List_x,List_i, color='red',label='interpolation function')\n",
        "  plt.plot(List_x,List_y, color='black',label='interpolation function f(x)')\n",
        "  plt.title('x='+str(abscissa))\n",
        "  plt.scatter(abscissa,s,s=50,color='red')\n",
        "  plt.xlabel('x')\n",
        "  plt.ylabel('y')\n",
        "  plt.legend()"
      ],
      "metadata": {
        "id": "tCdcAORXF4dx"
      },
      "execution_count": null,
      "outputs": []
    },
    {
      "cell_type": "code",
      "source": [
        ""
      ],
      "metadata": {
        "id": "npSlPm2zVGMg"
      },
      "execution_count": null,
      "outputs": []
    }
  ]
}